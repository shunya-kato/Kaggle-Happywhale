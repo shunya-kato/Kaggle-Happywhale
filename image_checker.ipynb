{
 "cells": [
  {
   "cell_type": "code",
   "execution_count": null,
   "id": "813e018d",
   "metadata": {},
   "outputs": [],
   "source": [
    "import pandas as pd\n",
    "df = pd.read_csv('train.csv')\n",
    "df"
   ]
  },
  {
   "cell_type": "code",
   "execution_count": null,
   "id": "3ce0f3af",
   "metadata": {},
   "outputs": [],
   "source": [
    "import matplotlib.pyplot as plt\n",
    "from ipywidgets import interact,Dropdown"
   ]
  },
  {
   "cell_type": "code",
   "execution_count": null,
   "id": "4bd55594",
   "metadata": {},
   "outputs": [],
   "source": [
    "def display_image(image_name):\n",
    "    obj = plt.imread('happy-whale-and-dolphin-backfin/train_images/'+image_name)\n",
    "    plt.imshow(obj)\n",
    "\n",
    "def create_image_name_dropdown_from_individual_id(individual_id):\n",
    "    second_df = df.loc[df['individual_id']==individual_id]\n",
    "    third_df = second_df['image']\n",
    "    third_df = third_df.drop_duplicates()\n",
    "    third_df = third_df.sort_values()\n",
    "    \n",
    "    w2 = Dropdown(description='image',options=third_df)\n",
    "    interact(display_image,image_name=w2)\n",
    "    \n",
    "def create_individual_dropdown_from_species_callback(species):\n",
    "    tmp_df = df.loc[df['species']==species]\n",
    "    now_df = tmp_df['individual_id']\n",
    "    now_df = now_df.drop_duplicates()\n",
    "    now_df = now_df.sort_values()\n",
    "    \n",
    "    individual_dropdown = Dropdown(description='individual_id',options=now_df)\n",
    "    interact(create_image_name_dropdown_from_individual_id,individual_id=individual_dropdown)\n",
    "    \n",
    "now_df = df['species']\n",
    "now_df = now_df.drop_duplicates()\n",
    "now_df = now_df.sort_values()\n",
    "species_dropdown = Dropdown(description='species',options=now_df)\n",
    "    \n",
    "interact(create_individual_dropdown_from_species_callback,species=species_dropdown)"
   ]
  }
 ],
 "metadata": {
  "kernelspec": {
   "display_name": "Python 3",
   "language": "python",
   "name": "python3"
  },
  "language_info": {
   "codemirror_mode": {
    "name": "ipython",
    "version": 3
   },
   "file_extension": ".py",
   "mimetype": "text/x-python",
   "name": "python",
   "nbconvert_exporter": "python",
   "pygments_lexer": "ipython3",
   "version": "3.8.8"
  }
 },
 "nbformat": 4,
 "nbformat_minor": 5
}
