{
 "cells": [
  {
   "cell_type": "code",
   "execution_count": 1,
   "id": "813e018d",
   "metadata": {},
   "outputs": [
    {
     "data": {
      "text/html": [
       "<div>\n",
       "<style scoped>\n",
       "    .dataframe tbody tr th:only-of-type {\n",
       "        vertical-align: middle;\n",
       "    }\n",
       "\n",
       "    .dataframe tbody tr th {\n",
       "        vertical-align: top;\n",
       "    }\n",
       "\n",
       "    .dataframe thead th {\n",
       "        text-align: right;\n",
       "    }\n",
       "</style>\n",
       "<table border=\"1\" class=\"dataframe\">\n",
       "  <thead>\n",
       "    <tr style=\"text-align: right;\">\n",
       "      <th></th>\n",
       "      <th>image</th>\n",
       "      <th>species</th>\n",
       "      <th>individual_id</th>\n",
       "    </tr>\n",
       "  </thead>\n",
       "  <tbody>\n",
       "    <tr>\n",
       "      <th>0</th>\n",
       "      <td>00021adfb725ed.jpg</td>\n",
       "      <td>melon_headed_whale</td>\n",
       "      <td>cadddb1636b9</td>\n",
       "    </tr>\n",
       "    <tr>\n",
       "      <th>1</th>\n",
       "      <td>000562241d384d.jpg</td>\n",
       "      <td>humpback_whale</td>\n",
       "      <td>1a71fbb72250</td>\n",
       "    </tr>\n",
       "    <tr>\n",
       "      <th>2</th>\n",
       "      <td>0007c33415ce37.jpg</td>\n",
       "      <td>false_killer_whale</td>\n",
       "      <td>60008f293a2b</td>\n",
       "    </tr>\n",
       "    <tr>\n",
       "      <th>3</th>\n",
       "      <td>0007d9bca26a99.jpg</td>\n",
       "      <td>bottlenose_dolphin</td>\n",
       "      <td>4b00fe572063</td>\n",
       "    </tr>\n",
       "    <tr>\n",
       "      <th>4</th>\n",
       "      <td>00087baf5cef7a.jpg</td>\n",
       "      <td>humpback_whale</td>\n",
       "      <td>8e5253662392</td>\n",
       "    </tr>\n",
       "    <tr>\n",
       "      <th>...</th>\n",
       "      <td>...</td>\n",
       "      <td>...</td>\n",
       "      <td>...</td>\n",
       "    </tr>\n",
       "    <tr>\n",
       "      <th>41569</th>\n",
       "      <td>fff54859cb0beb.jpg</td>\n",
       "      <td>false_killer_whale</td>\n",
       "      <td>b90d49ab0905</td>\n",
       "    </tr>\n",
       "    <tr>\n",
       "      <th>41570</th>\n",
       "      <td>fff603f5af8614.jpg</td>\n",
       "      <td>fin_whale</td>\n",
       "      <td>40fe65946167</td>\n",
       "    </tr>\n",
       "    <tr>\n",
       "      <th>41571</th>\n",
       "      <td>fff8b32daff17e.jpg</td>\n",
       "      <td>cuviers_beaked_whale</td>\n",
       "      <td>1184686361b3</td>\n",
       "    </tr>\n",
       "    <tr>\n",
       "      <th>41572</th>\n",
       "      <td>fff94675cc1aef.jpg</td>\n",
       "      <td>blue_whale</td>\n",
       "      <td>5401612696b9</td>\n",
       "    </tr>\n",
       "    <tr>\n",
       "      <th>41573</th>\n",
       "      <td>fffdcd42312777.jpg</td>\n",
       "      <td>bottlenose_dolphin</td>\n",
       "      <td>4ddb2eeb5efb</td>\n",
       "    </tr>\n",
       "  </tbody>\n",
       "</table>\n",
       "<p>41574 rows × 3 columns</p>\n",
       "</div>"
      ],
      "text/plain": [
       "                    image               species individual_id\n",
       "0      00021adfb725ed.jpg    melon_headed_whale  cadddb1636b9\n",
       "1      000562241d384d.jpg        humpback_whale  1a71fbb72250\n",
       "2      0007c33415ce37.jpg    false_killer_whale  60008f293a2b\n",
       "3      0007d9bca26a99.jpg    bottlenose_dolphin  4b00fe572063\n",
       "4      00087baf5cef7a.jpg        humpback_whale  8e5253662392\n",
       "...                   ...                   ...           ...\n",
       "41569  fff54859cb0beb.jpg    false_killer_whale  b90d49ab0905\n",
       "41570  fff603f5af8614.jpg             fin_whale  40fe65946167\n",
       "41571  fff8b32daff17e.jpg  cuviers_beaked_whale  1184686361b3\n",
       "41572  fff94675cc1aef.jpg            blue_whale  5401612696b9\n",
       "41573  fffdcd42312777.jpg    bottlenose_dolphin  4ddb2eeb5efb\n",
       "\n",
       "[41574 rows x 3 columns]"
      ]
     },
     "execution_count": 1,
     "metadata": {},
     "output_type": "execute_result"
    }
   ],
   "source": [
    "import pandas as pd\n",
    "df = pd.read_csv('train.csv')\n",
    "df"
   ]
  },
  {
   "cell_type": "code",
   "execution_count": 2,
   "id": "3ce0f3af",
   "metadata": {},
   "outputs": [],
   "source": [
    "import matplotlib.pyplot as plt\n",
    "from ipywidgets import interact,Dropdown"
   ]
  },
  {
   "cell_type": "code",
   "execution_count": 3,
   "id": "4bd55594",
   "metadata": {},
   "outputs": [
    {
     "data": {
      "application/vnd.jupyter.widget-view+json": {
       "model_id": "6984b9e026a1469f90d9f97453191d80",
       "version_major": 2,
       "version_minor": 0
      },
      "text/plain": [
       "interactive(children=(Dropdown(description='species', options=('blue_whale', 'bottlenose_dolphin', 'bottlenose…"
      ]
     },
     "metadata": {},
     "output_type": "display_data"
    },
    {
     "data": {
      "text/plain": [
       "<function __main__.create_individual_dropdown_from_species_callback(species)>"
      ]
     },
     "execution_count": 3,
     "metadata": {},
     "output_type": "execute_result"
    }
   ],
   "source": [
    "def display_image(image_name):\n",
    "    obj = plt.imread('happy-whale-and-dolphin-backfin/train_images/'+image_name)\n",
    "    plt.imshow(obj)\n",
    "\n",
    "def create_image_name_dropdown_from_individual_id(individual_id):\n",
    "    second_df = df.loc[df['individual_id']==individual_id]\n",
    "    third_df = second_df['image']\n",
    "    third_df = third_df.drop_duplicates()\n",
    "    third_df = third_df.sort_values()\n",
    "    \n",
    "    w2 = Dropdown(description='image',options=third_df)\n",
    "    interact(display_image,image_name=w2)\n",
    "    \n",
    "def create_individual_dropdown_from_species_callback(species):\n",
    "    tmp_df = df.loc[df['species']==species]\n",
    "    now_df = tmp_df['individual_id']\n",
    "    now_df = now_df.drop_duplicates()\n",
    "    now_df = now_df.sort_values()\n",
    "    \n",
    "    individual_dropdown = Dropdown(description='individual_id',options=now_df)\n",
    "    interact(create_image_name_dropdown_from_individual_id,individual_id=individual_dropdown)\n",
    "    \n",
    "now_df = df['species']\n",
    "now_df = now_df.drop_duplicates()\n",
    "now_df = now_df.sort_values()\n",
    "species_dropdown = Dropdown(description='species',options=now_df)\n",
    "    \n",
    "interact(create_individual_dropdown_from_species_callback,species=species_dropdown)"
   ]
  }
 ],
 "metadata": {
  "kernelspec": {
   "display_name": "Python 3",
   "language": "python",
   "name": "python3"
  },
  "language_info": {
   "codemirror_mode": {
    "name": "ipython",
    "version": 3
   },
   "file_extension": ".py",
   "mimetype": "text/x-python",
   "name": "python",
   "nbconvert_exporter": "python",
   "pygments_lexer": "ipython3",
   "version": "3.8.8"
  }
 },
 "nbformat": 4,
 "nbformat_minor": 5
}
